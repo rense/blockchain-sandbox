{
 "cells": [
  {
   "cell_type": "code",
   "execution_count": 7,
   "metadata": {},
   "outputs": [
    {
     "name": "stdout",
     "output_type": "stream",
     "text": [
      "The autoreload extension is already loaded. To reload it, use:\n",
      "  %reload_ext autoreload\n"
     ]
    }
   ],
   "source": [
    "%load_ext autoreload\n",
    "\n",
    "from datetime import datetime\n",
    "from main import Block, Coin"
   ]
  },
  {
   "cell_type": "code",
   "execution_count": 8,
   "metadata": {},
   "outputs": [],
   "source": [
    "coin = Coin()\n",
    "coin.populate(100)"
   ]
  },
  {
   "cell_type": "code",
   "execution_count": 9,
   "metadata": {},
   "outputs": [
    {
     "name": "stdout",
     "output_type": "stream",
     "text": [
      "Block <9c6795f4bbf431d491347b51d74d22f9a5dec3d4be0e46bd8618d1b4ce66f51c>: Payload #0\n",
      "Block <4c074f90d62284cda5da0aad4389382f202407cd9623a694588e7c427f00af8f>: Payload #1\n",
      "Block <2240a3b1353468d418be0d381510811e0b0477696b79a18be7b531c379751c32>: Payload #2\n",
      "Block <4519dc8fc9827051a5224d1f823f8f9d8000cce51d67742f53b2ac2b2fc7f5cf>: Payload #3\n",
      "Block <48cae396ee2bb0203efb2d1b89213a41c8b244dc5b1aa5b5021f05fc1e2ba05b>: Payload #4\n",
      "Block <b9d946ed98b9d363b22ed0603b80c75799f9aefe8cf52ef153c6fc3c43b8b925>: Payload #5\n",
      "Block <c70e265bd054f8755a9c3713caefba362db5341e141593d3f67203946490f6a8>: Payload #6\n",
      "Block <7c38a5f5468e1d011948ad448df75976e40d0b2092c0a16a65efae279eb66c2a>: Payload #7\n",
      "Block <ddfb5c939335fde127c0ffa5c92ddad1a24d728d4c4594c9fd374fe844901441>: Payload #8\n",
      "Block <f0a3fcca131a609bb48cf5392fb4b85cfb5f4c5bca0e49712739c1a177c58fd3>: Payload #9\n",
      "Block <28398decb995bc2e20a00c3281a9fe3e68c4f5b3eba8bb6b7077e60cc5c54ce1>: Payload #10\n",
      "Block <668884d8c1e513e2358e0cfab17c1dcf3ccfae4cf49b79f2416b51ceaf187787>: Payload #11\n",
      "Block <e8e45e1369f4a836f3c3d9593e80e2f32e0b0a038ce226c6bb72a0b55852de08>: Payload #12\n",
      "Block <9dddf80f596f54212f8b263da7d25d265a7104d2891be294fa34e145d1a0eae9>: Payload #13\n",
      "Block <827635ec964ce19e35d46e1decf84423adf3aee76fa8743af19ff496d01256ac>: Payload #14\n",
      "Block <11d5c5e407b711f8f7825c11fd38d58cdc26e1e0e9fc5bec13215e74ff7fcc54>: Payload #15\n",
      "Block <58967621cc74839122d82a55cdb81ba6a06fa09ff2583c21d79f527fb180ee40>: Payload #16\n",
      "Block <eac7b904bec9a0b1c83c958d1daf7e77b9b3f94604ebba5c550a3d4ba03a1770>: Payload #17\n",
      "Block <7d312e77912f7b57220f4fdccd1fa1cec554860bf815cbdc7ed65773e02cb17c>: Payload #18\n",
      "Block <31c7c54aca2020aba163adc8b92f0ed179b3a7637f35d27c93e4500b951e43ce>: Payload #19\n",
      "Block <f1ce406b2e47bc833c3a354ed8544a8eda63abd5716349aa7569836097eeeb7b>: Payload #20\n",
      "Block <02311a1e5e8aa2083627f83a30d758b9b321832b8317d2911b86c154c24b2894>: Payload #21\n",
      "Block <8cb3ebff3a3ae0eed3360a414f4d9fc91a55cfea28557238e4ddbe469d6b6785>: Payload #22\n",
      "Block <fd5afcc6075a412c95c267f16ee1bed4c4dd931bac392e212ceffa2c78d2f032>: Payload #23\n",
      "Block <0810697742c4a0cfee23acc1ccdfc7efa9afee08be85bc1cb8ddf5464c6db363>: Payload #24\n",
      "Block <4aa5fb0674a40f4da9b311bb2bcee6d57ad3cd2676b009f0d6e48ea80e49d2f7>: Payload #25\n",
      "Block <c2c119104943fbcef48a3f92335763869133e92e850709d717b7ae2e301eb97f>: Payload #26\n",
      "Block <c6566045a1fd6f3fcaf97e7f6d82694bf6a50578a6f168bf024dffdffd1722cf>: Payload #27\n",
      "Block <3424e35c6681f5cf6e0b30c9a879478a78ed323e34e30ceb52053e473d4b360e>: Payload #28\n",
      "Block <60bd593dea60c3ff5be6fbfeb2eb7a728c62a94b9ea292c01a26c6d332a9d91d>: Payload #29\n",
      "Block <e795ebb64fae7b9c8b6567786bf33ce68f3511cfe464f9b6270e1ccdaa49e721>: Payload #30\n",
      "Block <d533c5edca267ca38b242c53c1470773afce90005222759896401d464a33faed>: Payload #31\n",
      "Block <3ca719f9b4b9e94ba6b60fccfb32eebe5c9f8c4b9d22cc7e576d7e40f05abe07>: Payload #32\n",
      "Block <036a16f417206f73092fa3693e8bdfc251db605f3da2270f4f7f838ad2b3f305>: Payload #33\n",
      "Block <f9d8aed6b05b951969bdbb41749516328920a2dc0aa92c271741eaff397c1386>: Payload #34\n",
      "Block <f205d3cb5555ad8b7976533132d5beb555e1aef71b2fe045e804b8fe3ff096b2>: Payload #35\n",
      "Block <65d7611c187bf3d22709c105d0705a0d6d285cbfd31e9fae365f848f09daa903>: Payload #36\n",
      "Block <82a5a09582f21b2267382c88f2814af019a1d6cf74cc48861728f1a8b7d10ffc>: Payload #37\n",
      "Block <90e1f75bab9876a6bff157a8989c50ae91432703760cf18bac3b1ea6c5fb395f>: Payload #38\n",
      "Block <ef37686c98f4246fd9d90d532833d6cc2c8ad704e63aa1da18bb4f8eb9bed5c1>: Payload #39\n",
      "Block <43332f333e706a8bef0356c70f4b8709f04247c519a83b2d3d3b2af405988b93>: Payload #40\n",
      "Block <722d5b6e21528af6e17664ef5e155053634f668d8b39fd03360b2018ed82a45a>: Payload #41\n",
      "Block <43826fa54fddf7d81aa50887bd72687edaeb90516f5b71a3a8f084205d85725a>: Payload #42\n",
      "Block <8c380536b0286cfb0666f774153e5c3b748ddd46dd8f5bb6db532a4c5a066d2c>: Payload #43\n",
      "Block <5dc4b8548b31ba598ad5d6ae77688e47ee376443009e01264bcaa7bf3723153d>: Payload #44\n",
      "Block <e614bb036b7af54aab18c2c13ab9a8fbfc8071269cc5573c940c6cf49996b5e7>: Payload #45\n",
      "Block <d0e224f5500dc9f1af9a25fa55a8fddf9d21073da7d0186cc575bcf759c01f17>: Payload #46\n",
      "Block <7290386f60d5a3b2a2f0600f4850d728f93288a050c46275a3c33570f4f70bac>: Payload #47\n",
      "Block <4455d9b09a15393bde24cc7341c07d3c197a1ec769e21a5899818e02ebae1897>: Payload #48\n",
      "Block <8d4d9a456bcbcd53849228802ec189a2dbc79caf4af9e5202856ab06abbb891e>: Payload #49\n",
      "Block <09b9cd1ba5d46fae00122f9da534c506c09406b251882ffb2357c39b273a2a4f>: Payload #50\n",
      "Block <19de675aae19f5d795d53ba0b910f5d04eff22f58a5c08f5590ac0f18f212cba>: Payload #51\n",
      "Block <fac661f25ed336fbe7f52e26a47fe6d3cfbdd096a7b22fa273818ca54cb1eb42>: Payload #52\n",
      "Block <e8de2b833447709a2525a6f8cd740abf56d4fb6b1c6085c9fc00522e3c573c6d>: Payload #53\n",
      "Block <fc253526304bb736c64d2b0b4b16b9cf65266755ca8efeaaf2321fa6c216585e>: Payload #54\n",
      "Block <3b6764caf520ca457ad07a47a9bd041d75187c7fe34a64b5a8ccc3e19a96f5ec>: Payload #55\n",
      "Block <737653db4fcf92ec9efeba2ee3103a0172e410715404d68ca6898376f46883c3>: Payload #56\n",
      "Block <e916d4a6715e5833ca8a482af15974c9c7afc5a487e1ed06863f77916fe53426>: Payload #57\n",
      "Block <489fb51c2fca0910a10466e398463af7f176faed3cdf85aa0b69c594b349d0c6>: Payload #58\n",
      "Block <41521ddfe34b99f97f974d8fbfc4a0b714c0221371878f9bc00cea80b7292ae3>: Payload #59\n",
      "Block <9f68c28c79106feec3e67d05605e3911e9d9b1d5db899ff528ca397d962229dc>: Payload #60\n",
      "Block <9ba5824f0d1c58bdddd04937727d785f0597f321e0884ae60505968c0651e785>: Payload #61\n",
      "Block <d580171e3112c051717e34a93b26916538c5f0f6081513c7b73d1a498ac9f54e>: Payload #62\n",
      "Block <0d63dfb6303dede69a8c05b38293699f05eddbea2eb6fc56a84c9faac48e79f9>: Payload #63\n",
      "Block <f4c1a5fe7bb1f4eefd64ec637bba5ac74aa8a813903334e9d5feddc0cf83bd8b>: Payload #64\n",
      "Block <f15ffe4e821266befc4b45656c6e1cac36267b8981683326721a90cd53ee3746>: Payload #65\n",
      "Block <45338382ce118013815752edfba85fc85fe1af24826dc88f2119f2bbf053e896>: Payload #66\n",
      "Block <b2af1e4458110a802931f3bb0ffeb1585ff8ad77c3059853b4800f415a864954>: Payload #67\n",
      "Block <00d347a8ca71b2b4b7f60a2cae62cb6875122ad9702213b10c50487fa53e9385>: Payload #68\n",
      "Block <41d164cc46f6147e08b17307500d3aef1745a6976c4726dcf346edb133789198>: Payload #69\n",
      "Block <7e6a89517839efd9cf7437c49f5550deb9b4f7897bbe5b10526ce05795db5818>: Payload #70\n",
      "Block <48c8c5a2d3ca0f48e56c2a5e634c970a916101a931c2abbc32dbdf2a6aa9f663>: Payload #71\n",
      "Block <12b806eec544e99f2d18635639b993135952a0171dbdff59e7096d293bd28ea7>: Payload #72\n",
      "Block <5fe0c887f7f0337ca267e8ce280ee5556fdad6bdae0eee09b4ca0b25a7c8f866>: Payload #73\n",
      "Block <f82285380e351e64a16e25efd8f19841d2389bcfad2e8381d30231974f642677>: Payload #74\n",
      "Block <4cd7c844c1f43d9c1fe2f7311a53868d7e2cd66c34ac28a0c258df508c2cd0b5>: Payload #75\n",
      "Block <04c29d7a12e27ea89a1c6094642765c4adae2454b29c14c733f5b8ed3e266ade>: Payload #76\n",
      "Block <9162c3968c9fddef625ee810d6808d87b6a66be70b4553be64e9f8e93e8e320b>: Payload #77\n",
      "Block <5a499e1af31692533dd253e53e55c9865576ec5f67114bcac9db46fb9be4ce2b>: Payload #78\n",
      "Block <acaf0503a45945376d59df563a31d19aa237161687f60e08ea98e34d75d91200>: Payload #79\n",
      "Block <c21b67e5052d2d3ea7b66a4c6646678a596c56b332149662c003f2d4180d5936>: Payload #80\n",
      "Block <af563831405dd98bbc3286ce290529dcd437a842149a3e8d46247557c142d8f6>: Payload #81\n",
      "Block <a7c4da457f82146878587de73abf047f37fc177c2f4bf67ab0c6bd8a5b1a3618>: Payload #82\n",
      "Block <6e6733de610f7806499ce815949e47610344c1094d3384d8e84435b6d42949fb>: Payload #83\n",
      "Block <60e5dbb4947d3c677bc51b6617e10ab95dd0be4215b18e23b2a26b9d156a5ec3>: Payload #84\n",
      "Block <3e09891a3504f347da5cee9d82c966f0ff273953501ba3e91a80d5bd241802b6>: Payload #85\n",
      "Block <42d4c2c3ca3a0c7ce9a256010b6625db0f12b7f2173c67e2329dce60e5fa76ca>: Payload #86\n",
      "Block <bd3128a903612eba32ec6f75480b83c3f2e99071970ac0e90e1110e819c78d58>: Payload #87\n",
      "Block <89cd8272ab5da6c21430fd68c781ce36408c382744357a72e805c3f8a4044051>: Payload #88\n",
      "Block <184d0356c4f6c51bbe0dc6e37429cdfe08ae01a4bf6007a1b0ac12ce46f847c3>: Payload #89\n",
      "Block <9abd26539823db34633bd856e871487a838948901df72fffdb2e5b1f879ebde6>: Payload #90\n",
      "Block <17bff7460a117e716d17ac5707b3f4cead1559dd15600d45c937be35b48b8368>: Payload #91\n",
      "Block <aff69c1a8a81c8a1f3783c8423382dd64417949b3a0dfd31a54688095ea78326>: Payload #92\n",
      "Block <291c5dcdb1c35e66749d2f15e70c807edb91f5b4a1e141dc736e66421faf5453>: Payload #93\n",
      "Block <9a2e7460bedb8101d680b4f79984e7af6bb9737e14737e40540adef758e7c318>: Payload #94\n",
      "Block <653449b931fad22902aab61f6c8484526af41cc4f430e9379b02e94f12a1fdf2>: Payload #95\n",
      "Block <5ded8ce7cc2830c3962b91e0507e89493a705ba28c3c8ebc675e3d6586a3a099>: Payload #96\n",
      "Block <a0ab557954c8584c7cd6f7d97e34bd29137aa2a6bf0248f642d3a1a55f3f3c2d>: Payload #97\n",
      "Block <801d719b28f6a44ca47aa2328cec1534507be8ea4e7567cbf0448cca4408f368>: Payload #98\n",
      "Block <4235692a0082cc8909f5cf45bd2bfe2c9d4c4c789376509f5f9d59629d299198>: Payload #99\n",
      "Block <29be1a434527235a7f7bd5bd51fc481fade1203844963c4bc5db22ce032b804e>: Payload #100\n"
     ]
    }
   ],
   "source": [
    "for block in coin.block_chain.blocks:\n",
    "    print(block)"
   ]
  },
  {
   "cell_type": "code",
   "execution_count": 11,
   "metadata": {},
   "outputs": [
    {
     "ename": "AttributeError",
     "evalue": "'Coin' object has no attribute 'blockchain'",
     "output_type": "error",
     "traceback": [
      "\u001b[0;31m---------------------------------------------------------------------------\u001b[0m",
      "\u001b[0;31mAttributeError\u001b[0m                            Traceback (most recent call last)",
      "\u001b[0;32m<ipython-input-11-0e7be8645a15>\u001b[0m in \u001b[0;36m<module>\u001b[0;34m()\u001b[0m\n\u001b[0;32m----> 1\u001b[0;31m \u001b[0mcoin\u001b[0m\u001b[0;34m.\u001b[0m\u001b[0mblockchain\u001b[0m\u001b[0;34m.\u001b[0m\u001b[0mblocks\u001b[0m\u001b[0;34m[\u001b[0m\u001b[0;36m0\u001b[0m\u001b[0;34m]\u001b[0m\u001b[0;34m.\u001b[0m\u001b[0mdata\u001b[0m\u001b[0;34m\u001b[0m\u001b[0m\n\u001b[0m",
      "\u001b[0;31mAttributeError\u001b[0m: 'Coin' object has no attribute 'blockchain'"
     ]
    }
   ],
   "source": [
    "coin.block_chain.blocks[0].data"
   ]
  },
  {
   "cell_type": "code",
   "execution_count": null,
   "metadata": {},
   "outputs": [],
   "source": []
  }
 ],
 "metadata": {
  "kernelspec": {
   "display_name": "Python 3",
   "language": "python",
   "name": "python3"
  },
  "language_info": {
   "codemirror_mode": {
    "name": "ipython",
    "version": 3
   },
   "file_extension": ".py",
   "mimetype": "text/x-python",
   "name": "python",
   "nbconvert_exporter": "python",
   "pygments_lexer": "ipython3",
   "version": "3.6.1"
  }
 },
 "nbformat": 4,
 "nbformat_minor": 2
}
